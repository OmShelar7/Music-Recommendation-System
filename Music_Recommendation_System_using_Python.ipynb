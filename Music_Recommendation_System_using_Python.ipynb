{
  "nbformat": 4,
  "nbformat_minor": 0,
  "metadata": {
    "colab": {
      "provenance": [],
      "authorship_tag": "ABX9TyO9FGxxB1JPtkBLNMycqxL9",
      "include_colab_link": true
    },
    "kernelspec": {
      "name": "python3",
      "display_name": "Python 3"
    },
    "language_info": {
      "name": "python"
    }
  },
  "cells": [
    {
      "cell_type": "markdown",
      "metadata": {
        "id": "view-in-github",
        "colab_type": "text"
      },
      "source": [
        "<a href=\"https://colab.research.google.com/github/OmShelar7/Music-Recommendation-System/blob/main/Music_Recommendation_System_using_Python.ipynb\" target=\"_parent\"><img src=\"https://colab.research.google.com/assets/colab-badge.svg\" alt=\"Open In Colab\"/></a>"
      ]
    },
    {
      "cell_type": "code",
      "execution_count": null,
      "metadata": {
        "colab": {
          "base_uri": "https://localhost:8080/"
        },
        "id": "0bDEwHyI9_n3",
        "outputId": "5056188a-977d-4197-a06f-db8b29696450"
      },
      "outputs": [
        {
          "output_type": "stream",
          "name": "stdout",
          "text": [
            "Access token obtained successfully.\n"
          ]
        }
      ],
      "source": [
        "import requests\n",
        "import base64\n",
        "\n",
        "# Replace with your own Client ID and Client Secret\n",
        "CLIENT_ID = '57fa70bc2fcf4df1bf9f8a48595172ec'\n",
        "CLIENT_SECRET = 'b4bf162756d44a54a34bd2c255cae5a3'\n",
        "\n",
        "# Base64 encode the client ID and client secret\n",
        "client_credentials = f\"{CLIENT_ID}:{CLIENT_SECRET}\"\n",
        "client_credentials_base64 = base64.b64encode(client_credentials.encode())\n",
        "\n",
        "# Request the access token\n",
        "token_url = 'https://accounts.spotify.com/api/token'\n",
        "headers = {\n",
        "    'Authorization': f'Basic {client_credentials_base64.decode()}'\n",
        "}\n",
        "data = {\n",
        "    'grant_type': 'client_credentials'\n",
        "}\n",
        "response = requests.post(token_url, data=data, headers=headers)\n",
        "\n",
        "if response.status_code == 200:\n",
        "    access_token = response.json()['access_token']\n",
        "    print(\"Access token obtained successfully.\")\n",
        "else:\n",
        "    print(\"Error obtaining access token.\")\n",
        "    exit()"
      ]
    },
    {
      "cell_type": "markdown",
      "source": [
        "# install the Spotipy library, which is a Python library providing access to Spotify’s web API."
      ],
      "metadata": {
        "id": "ucDEl1jj--iJ"
      }
    },
    {
      "cell_type": "code",
      "source": [
        "pip install spotipy"
      ],
      "metadata": {
        "colab": {
          "base_uri": "https://localhost:8080/"
        },
        "id": "cUJZbSnv-9fs",
        "outputId": "fb73b6e8-664f-4f84-e61d-66cd8e038840"
      },
      "execution_count": null,
      "outputs": [
        {
          "output_type": "stream",
          "name": "stdout",
          "text": [
            "Requirement already satisfied: spotipy in /usr/local/lib/python3.10/dist-packages (2.23.0)\n",
            "Requirement already satisfied: redis>=3.5.3 in /usr/local/lib/python3.10/dist-packages (from spotipy) (5.0.1)\n",
            "Requirement already satisfied: requests>=2.25.0 in /usr/local/lib/python3.10/dist-packages (from spotipy) (2.31.0)\n",
            "Requirement already satisfied: six>=1.15.0 in /usr/local/lib/python3.10/dist-packages (from spotipy) (1.16.0)\n",
            "Requirement already satisfied: urllib3>=1.26.0 in /usr/local/lib/python3.10/dist-packages (from spotipy) (2.0.7)\n",
            "Requirement already satisfied: async-timeout>=4.0.2 in /usr/local/lib/python3.10/dist-packages (from redis>=3.5.3->spotipy) (4.0.3)\n",
            "Requirement already satisfied: charset-normalizer<4,>=2 in /usr/local/lib/python3.10/dist-packages (from requests>=2.25.0->spotipy) (3.3.2)\n",
            "Requirement already satisfied: idna<4,>=2.5 in /usr/local/lib/python3.10/dist-packages (from requests>=2.25.0->spotipy) (3.6)\n",
            "Requirement already satisfied: certifi>=2017.4.17 in /usr/local/lib/python3.10/dist-packages (from requests>=2.25.0->spotipy) (2024.2.2)\n"
          ]
        }
      ]
    },
    {
      "cell_type": "markdown",
      "source": [
        "The function initializes a Spotipy client with an access_token, fetches track information from a specified Spotify playlist using the playlist_id, extracts relevant details, and retrieves audio features for each track, compiling the data into a list of dictionaries called music_data."
      ],
      "metadata": {
        "id": "nT6cN1Qk_fpc"
      }
    },
    {
      "cell_type": "code",
      "source": [
        "import pandas as pd\n",
        "import spotipy\n",
        "from spotipy.oauth2 import SpotifyOAuth\n",
        "\n",
        "def get_trending_playlist_data(playlist_id, access_token):\n",
        "    # Set up Spotipy with the access token\n",
        "    sp = spotipy.Spotify(auth=access_token)\n",
        "\n",
        "    # Get the tracks from the playlist\n",
        "    playlist_tracks = sp.playlist_tracks(playlist_id, fields='items(track(id, name, artists, album(id, name)))')\n",
        "\n",
        "    # Extract relevant information and store in a list of dictionaries\n",
        "    music_data = []\n",
        "    for track_info in playlist_tracks['items']:\n",
        "        track = track_info['track']\n",
        "        track_name = track['name']\n",
        "        artists = ', '.join([artist['name'] for artist in track['artists']])\n",
        "        album_name = track['album']['name']\n",
        "        album_id = track['album']['id']\n",
        "        track_id = track['id']\n",
        "\n",
        "        # Get audio features for the track\n",
        "        audio_features = sp.audio_features(track_id)[0] if track_id != 'Not available' else None\n",
        "\n",
        "        # Get release date of the album\n",
        "        try:\n",
        "            album_info = sp.album(album_id) if album_id != 'Not available' else None\n",
        "            release_date = album_info['release_date'] if album_info else None\n",
        "        except:\n",
        "            release_date = None\n",
        "\n",
        "        # Get popularity of the track\n",
        "        try:\n",
        "            track_info = sp.track(track_id) if track_id != 'Not available' else None\n",
        "            popularity = track_info['popularity'] if track_info else None\n",
        "        except:\n",
        "            popularity = None\n",
        "\n",
        "        # Add additional track information to the track data\n",
        "        track_data = {\n",
        "            'Track Name': track_name,\n",
        "            'Artists': artists,\n",
        "            'Album Name': album_name,\n",
        "            'Album ID': album_id,\n",
        "            'Track ID': track_id,\n",
        "            'Popularity': popularity,\n",
        "            'Release Date': release_date,\n",
        "            'Duration (ms)': audio_features['duration_ms'] if audio_features else None,\n",
        "            'Explicit': track_info.get('explicit', None),\n",
        "            'External URLs': track_info.get('external_urls', {}).get('spotify', None),\n",
        "            'Danceability': audio_features['danceability'] if audio_features else None,\n",
        "            'Energy': audio_features['energy'] if audio_features else None,\n",
        "            'Key': audio_features['key'] if audio_features else None,\n",
        "            'Loudness': audio_features['loudness'] if audio_features else None,\n",
        "            'Mode': audio_features['mode'] if audio_features else None,\n",
        "            'Speechiness': audio_features['speechiness'] if audio_features else None,\n",
        "            'Acousticness': audio_features['acousticness'] if audio_features else None,\n",
        "            'Instrumentalness': audio_features['instrumentalness'] if audio_features else None,\n",
        "            'Liveness': audio_features['liveness'] if audio_features else None,\n",
        "            'Valence': audio_features['valence'] if audio_features else None,\n",
        "            'Tempo': audio_features['tempo'] if audio_features else None,\n",
        "            # Add more attributes as needed\n",
        "        }\n",
        "\n",
        "        music_data.append(track_data)\n",
        "\n",
        "    # Create a pandas DataFrame from the list of dictionaries\n",
        "    df = pd.DataFrame(music_data)\n",
        "\n",
        "    return df"
      ],
      "metadata": {
        "id": "UKkFJdAQ_W_O"
      },
      "execution_count": null,
      "outputs": []
    },
    {
      "cell_type": "markdown",
      "source": [
        "Now, here’s how we can use the function to collect music data from any playlist on Spotify:"
      ],
      "metadata": {
        "id": "hkutrTaS_x82"
      }
    },
    {
      "cell_type": "code",
      "source": [
        "playlist_id = 'https://open.spotify.com/playlist/6gyglL1vMvpjGLXBKfRxHa'\n",
        "\n",
        "# Call the function to get the music data from the playlist and store it in a DataFrame\n",
        "music_df = get_trending_playlist_data(playlist_id, access_token)\n",
        "\n",
        "# Display the DataFrame\n",
        "print(music_df)"
      ],
      "metadata": {
        "colab": {
          "base_uri": "https://localhost:8080/"
        },
        "id": "tS4-n625_y7Q",
        "outputId": "40f4c5e2-cbe1-41f1-c3bc-e77ff87e446e"
      },
      "execution_count": null,
      "outputs": [
        {
          "output_type": "stream",
          "name": "stdout",
          "text": [
            "                                           Track Name  \\\n",
            "0                                     Blinding Lights   \n",
            "1                                         Die For You   \n",
            "2                        Double Fantasy (with Future)   \n",
            "3                                 Die For You - Remix   \n",
            "4                                           The Hills   \n",
            "5                                             Starboy   \n",
            "6   Popular (with Playboi Carti & Madonna) - The I...   \n",
            "7                   Moth To A Flame (with The Weeknd)   \n",
            "8                                         Out of Time   \n",
            "9   Save Your Tears (Remix) (with Ariana Grande) -...   \n",
            "10                                          Sacrifice   \n",
            "11                  Pray For Me (with Kendrick Lamar)   \n",
            "12                                           Live For   \n",
            "13                                  I Was Never There   \n",
            "14                Lost in the Fire (feat. The Weeknd)   \n",
            "15                                       In Your Eyes   \n",
            "16                   Earned It (Fifty Shades Of Grey)   \n",
            "17                                          Heartless   \n",
            "18                             Is There Someone Else?   \n",
            "19                                              Often   \n",
            "20                                 Can't Feel My Face   \n",
            "21           I Heard You’re Married (feat. Lil Wayne)   \n",
            "22                                   I Feel It Coming   \n",
            "23                                      High For This   \n",
            "24                                         Acquainted   \n",
            "25                                          Crew Love   \n",
            "26                                        After Hours   \n",
            "27                                      Party Monster   \n",
            "28                                          Sidewalks   \n",
            "29                                       Wicked Games   \n",
            "30                                           Reminder   \n",
            "31                                            Secrets   \n",
            "32                                     Love Me Harder   \n",
            "33                                        True Colors   \n",
            "34                                         Wanderlust   \n",
            "35                                   Call Out My Name   \n",
            "36                                     Scared To Live   \n",
            "37                                           Too Late   \n",
            "38                          Family (with Suzanna Son)   \n",
            "39                                       A Lesser Man   \n",
            "\n",
            "                               Artists  \\\n",
            "0                           The Weeknd   \n",
            "1                           The Weeknd   \n",
            "2                   The Weeknd, Future   \n",
            "3            The Weeknd, Ariana Grande   \n",
            "4                           The Weeknd   \n",
            "5                The Weeknd, Daft Punk   \n",
            "6   The Weeknd, Playboi Carti, Madonna   \n",
            "7      Swedish House Mafia, The Weeknd   \n",
            "8                           The Weeknd   \n",
            "9            The Weeknd, Ariana Grande   \n",
            "10                          The Weeknd   \n",
            "11          The Weeknd, Kendrick Lamar   \n",
            "12                   The Weeknd, Drake   \n",
            "13           The Weeknd, Gesaffelstein   \n",
            "14           Gesaffelstein, The Weeknd   \n",
            "15                          The Weeknd   \n",
            "16                          The Weeknd   \n",
            "17                          The Weeknd   \n",
            "18                          The Weeknd   \n",
            "19                          The Weeknd   \n",
            "20                          The Weeknd   \n",
            "21               The Weeknd, Lil Wayne   \n",
            "22               The Weeknd, Daft Punk   \n",
            "23                          The Weeknd   \n",
            "24                          The Weeknd   \n",
            "25                   Drake, The Weeknd   \n",
            "26                          The Weeknd   \n",
            "27                          The Weeknd   \n",
            "28          The Weeknd, Kendrick Lamar   \n",
            "29                          The Weeknd   \n",
            "30                          The Weeknd   \n",
            "31                          The Weeknd   \n",
            "32           Ariana Grande, The Weeknd   \n",
            "33                          The Weeknd   \n",
            "34                          The Weeknd   \n",
            "35                          The Weeknd   \n",
            "36                          The Weeknd   \n",
            "37                          The Weeknd   \n",
            "38             The Weeknd, Suzanna Son   \n",
            "39                          The Weeknd   \n",
            "\n",
            "                                           Album Name                Album ID  \\\n",
            "0                                     Blinding Lights  2ZfHkwHuoAZrlz7RMj0PDz   \n",
            "1                                             Starboy  09fggMHib4YkOtwQNXEBII   \n",
            "2                                      Double Fantasy  0Ct52rooGyvjv6qXrBPNzm   \n",
            "3                                 Die For You (Remix)  6Exo0MYoL3XammoTDeihFy   \n",
            "4                           Beauty Behind The Madness  28ZKQMoNBB0etKXZ97G2SN   \n",
            "5                                             Starboy  09fggMHib4YkOtwQNXEBII   \n",
            "6   Popular [The Idol Vol. 1 (Music from the HBO O...  2i0fbrz2Fb19AVpq7vWrfm   \n",
            "7                                     Moth To A Flame  3udIvIqyBG1RrHxXrUZDoK   \n",
            "8                                             Dawn FM  2nLOHgzXzwFEpl62zAgCEC   \n",
            "9                                After Hours (Deluxe)  4ZyeHIgdujClXSjC2cSqSb   \n",
            "10                                            Dawn FM  2nLOHgzXzwFEpl62zAgCEC   \n",
            "11                  Pray For Me (with Kendrick Lamar)  1mESN9Zy0787YRMuLqOY4j   \n",
            "12                                          Kiss Land  3hhDpPtCFuQbppwYgsVhMO   \n",
            "13                                My Dear Melancholy,  4qZBW3f2Q8y0k1A84d4iAO   \n",
            "14                                           Hyperion  0JA38Ekhsv43y2lBj5GQkQ   \n",
            "15                                        After Hours  4yP0hdKOZPNshxUOjY0cZj   \n",
            "16                          Beauty Behind The Madness  28ZKQMoNBB0etKXZ97G2SN   \n",
            "17                                          Heartless  7vRcickwa6GCfY1qKKe4lK   \n",
            "18                                            Dawn FM  2nLOHgzXzwFEpl62zAgCEC   \n",
            "19                          Beauty Behind The Madness  28ZKQMoNBB0etKXZ97G2SN   \n",
            "20                          Beauty Behind The Madness  28ZKQMoNBB0etKXZ97G2SN   \n",
            "21                                            Dawn FM  2nLOHgzXzwFEpl62zAgCEC   \n",
            "22                                            Starboy  09fggMHib4YkOtwQNXEBII   \n",
            "23                                            Trilogy  7g9RcHiOu1Di3B4Js96Fz5   \n",
            "24                          Beauty Behind The Madness  28ZKQMoNBB0etKXZ97G2SN   \n",
            "25                                 Take Care (Deluxe)  6X1x82kppWZmDzlXXK3y3q   \n",
            "26                                        After Hours  4yP0hdKOZPNshxUOjY0cZj   \n",
            "27                                            Starboy  09fggMHib4YkOtwQNXEBII   \n",
            "28                                            Starboy  09fggMHib4YkOtwQNXEBII   \n",
            "29                                            Trilogy  7g9RcHiOu1Di3B4Js96Fz5   \n",
            "30                                            Starboy  09fggMHib4YkOtwQNXEBII   \n",
            "31                                            Starboy  09fggMHib4YkOtwQNXEBII   \n",
            "32                             My Everything (Deluxe)  5AMOKSM1ftb3opIbGT2d4q   \n",
            "33                                            Starboy  09fggMHib4YkOtwQNXEBII   \n",
            "34                                 Kiss Land (Deluxe)  6wRev1uYL0JsMsWqktJuVi   \n",
            "35                                My Dear Melancholy,  3N88bRVAwQrtKqSV0UgU69   \n",
            "36                                        After Hours  4yP0hdKOZPNshxUOjY0cZj   \n",
            "37                                        After Hours  4yP0hdKOZPNshxUOjY0cZj   \n",
            "38  The Idol Episode 2 (Music from the HBO Origina...  5bx7i3cuSfXBPF7Li8kUR7   \n",
            "39  The Idol Episode 3 (Music from the HBO Origina...  5aX2plzPm0m6zk4ZFuqbuI   \n",
            "\n",
            "                  Track ID  Popularity Release Date  Duration (ms)  Explicit  \\\n",
            "0   0sf12qNH5qcw8qpgymFOqD          19   2019-11-29         201573     False   \n",
            "1   1zF69Xru3AToRB87kAKqra           2   2016-11-25         260253     False   \n",
            "2   4VMRsbfZzd3SfQtaJ1Wpwi          79   2023-04-21         268235      True   \n",
            "3   7oDd86yk8itslrA9HRP2ki          83   2023-02-24         232857     False   \n",
            "4   25khomWgBVamSdKw7hzm3l          40   2015-08-28         242253      True   \n",
            "5   5aAx2yezTd8zXrkmtKl66Z          40   2016-11-25         230453      True   \n",
            "6   5xP9lQYA8YQmQh6BOxcAnR          40   2023-06-02         215467      True   \n",
            "7   2gpWyfu7eZ01zzncHpxOtA          18   2021-10-22         234000     False   \n",
            "8   2SLwbpExuoBDZBpjfefCtV          81   2022-01-06         214194     False   \n",
            "9   1oFAF1hdPOickyHgbuRjyX          85   2020-03-20         191014     False   \n",
            "10  1nH2PkJL1XoUq8oE6tBZoU          76   2022-01-06         188918      True   \n",
            "11  4ofvoCdXq99vpMZO4Cfp8x           1   2018-02-02         211440      True   \n",
            "12  3kgqHVqfiabABjaFi9Tnhn          56   2013-09-10         222667      True   \n",
            "13  1cKHdTo9u0ZymJdPGSh6nq          88   2018-03-30         241067     False   \n",
            "14  2vXKRlJBXyOcvZYTdNeckS          86   2019-03-08         202093      True   \n",
            "15  7szuecWAPwGoV1e5vGu8tl          80   2020-03-20         237520      True   \n",
            "16  5UPwc30oJ4KhQYctNfv34x           1   2015-08-28         277680      True   \n",
            "17  57vxBYXtHMk6H1aD29V7PU           1   2019-11-27         200080      True   \n",
            "18  0mL82sxCRjrs3br407IdJh          88   2022-01-06         199111     False   \n",
            "19  5SqSckut3FcoQKmGkMWgp1           1   2015-08-28         249040      True   \n",
            "20  6RsWqX8zABZLhZydXxEFOm           0   2015-08-28         213520     False   \n",
            "21  5XbA7TAqsD0fj0dGBrbb0D          65   2022-01-06         263642      True   \n",
            "22  4RepvCWqsP6zBuzvwYibAS           0   2016-11-25         269187     False   \n",
            "23  0vFrEJcKVPDXC4rRhCD2XS           0   2012-01-01         247227     False   \n",
            "24  7t5m6zRwIEBxmPt8lNoPPi           0   2015-08-28         348853      True   \n",
            "25  0V4l4GQhgnWQGtCWpvA7va          75   2011-11-15         208813      True   \n",
            "26  2p8IUWQDrpjuFltbdgLOag          86   2020-03-20         361027     False   \n",
            "27  4nAyv6465LBywy7tOx78bc           0   2016-11-25         249213      True   \n",
            "28  7y2SOXPaH6ORTya7ROEzy0           0   2016-11-25         231360      True   \n",
            "29  137wbDM4s2ugav7MKO45O9           0   2012-01-01         323747      True   \n",
            "30  3IU6xbfNZosvTdRrGs8b2u           0   2016-11-25         218880      True   \n",
            "31  6kP57bEoT8R9ytlGUfUTmB           0   2016-11-25         265600     False   \n",
            "32  1aKsg5b9sOngINaQXbB0P7           0   2014-08-22         236133     False   \n",
            "33  1XZkxBNZT13KoAexAKB2lp           0   2016-11-25         206013     False   \n",
            "34  5OmX5lXxZ5sQgPuSHDn293          51   2013-09-10         306773     False   \n",
            "35  4MPTj8lMMvxLwT3EwuXFop           8   2018-03-30         228373     False   \n",
            "36  4BGZF4oLbTL0pWm7C18pbv          68   2020-03-20         191307      True   \n",
            "37  2K9Ovn1o2bTGqbsABGC6m3          69   2020-03-20         239973      True   \n",
            "38  1CatlSR0Kh0hsvGF2Z8l3s          57   2023-06-12         183885     False   \n",
            "39  4bPsiRqWPFPgLiPQR7jNo4          69   2023-06-19         298617      True   \n",
            "\n",
            "                                        External URLs  ...  Energy  Key  \\\n",
            "0   https://open.spotify.com/track/0sf12qNH5qcw8qp...  ...   0.796    1   \n",
            "1   https://open.spotify.com/track/1zF69Xru3AToRB8...  ...   0.514    1   \n",
            "2   https://open.spotify.com/track/4VMRsbfZzd3SfQt...  ...   0.567    9   \n",
            "3   https://open.spotify.com/track/7oDd86yk8itslrA...  ...   0.525    1   \n",
            "4   https://open.spotify.com/track/25khomWgBVamSdK...  ...   0.567    0   \n",
            "5   https://open.spotify.com/track/5aAx2yezTd8zXrk...  ...   0.594    7   \n",
            "6   https://open.spotify.com/track/5xP9lQYA8YQmQh6...  ...   0.675    1   \n",
            "7   https://open.spotify.com/track/2gpWyfu7eZ01zzn...  ...   0.659    8   \n",
            "8   https://open.spotify.com/track/2SLwbpExuoBDZBp...  ...   0.760    0   \n",
            "9   https://open.spotify.com/track/1oFAF1hdPOickyH...  ...   0.825    0   \n",
            "10  https://open.spotify.com/track/1nH2PkJL1XoUq8o...  ...   0.795   11   \n",
            "11  https://open.spotify.com/track/4ofvoCdXq99vpMZ...  ...   0.668    2   \n",
            "12  https://open.spotify.com/track/3kgqHVqfiabABja...  ...   0.680    0   \n",
            "13  https://open.spotify.com/track/1cKHdTo9u0ZymJd...  ...   0.737   10   \n",
            "14  https://open.spotify.com/track/2vXKRlJBXyOcvZY...  ...   0.671    2   \n",
            "15  https://open.spotify.com/track/7szuecWAPwGoV1e...  ...   0.719    7   \n",
            "16  https://open.spotify.com/track/5UPwc30oJ4KhQYc...  ...   0.278    2   \n",
            "17  https://open.spotify.com/track/57vxBYXtHMk6H1a...  ...   0.750   10   \n",
            "18  https://open.spotify.com/track/0mL82sxCRjrs3br...  ...   0.586    9   \n",
            "19  https://open.spotify.com/track/5SqSckut3FcoQKm...  ...   0.612    7   \n",
            "20  https://open.spotify.com/track/6RsWqX8zABZLhZy...  ...   0.770    9   \n",
            "21  https://open.spotify.com/track/5XbA7TAqsD0fj0d...  ...   0.848    9   \n",
            "22  https://open.spotify.com/track/4RepvCWqsP6zBuz...  ...   0.813    0   \n",
            "23  https://open.spotify.com/track/0vFrEJcKVPDXC4r...  ...   0.436   11   \n",
            "24  https://open.spotify.com/track/7t5m6zRwIEBxmPt...  ...   0.481    7   \n",
            "25  https://open.spotify.com/track/0V4l4GQhgnWQGtC...  ...   0.546    0   \n",
            "26  https://open.spotify.com/track/2p8IUWQDrpjuFlt...  ...   0.572    5   \n",
            "27  https://open.spotify.com/track/4nAyv6465LBywy7...  ...   0.621    1   \n",
            "28  https://open.spotify.com/track/7y2SOXPaH6ORTya...  ...   0.731    1   \n",
            "29  https://open.spotify.com/track/137wbDM4s2ugav7...  ...   0.579   11   \n",
            "30  https://open.spotify.com/track/3IU6xbfNZosvTdR...  ...   0.517    8   \n",
            "31  https://open.spotify.com/track/6kP57bEoT8R9ytl...  ...   0.783    0   \n",
            "32  https://open.spotify.com/track/1aKsg5b9sOngINa...  ...   0.714    1   \n",
            "33  https://open.spotify.com/track/1XZkxBNZT13KoAe...  ...   0.419    1   \n",
            "34  https://open.spotify.com/track/5OmX5lXxZ5sQgPu...  ...   0.652    1   \n",
            "35  https://open.spotify.com/track/4MPTj8lMMvxLwT3...  ...   0.599    1   \n",
            "36  https://open.spotify.com/track/4BGZF4oLbTL0pWm...  ...   0.498    0   \n",
            "37  https://open.spotify.com/track/2K9Ovn1o2bTGqbs...  ...   0.863    4   \n",
            "38  https://open.spotify.com/track/1CatlSR0Kh0hsvG...  ...   0.348    9   \n",
            "39  https://open.spotify.com/track/4bPsiRqWPFPgLiP...  ...   0.526    9   \n",
            "\n",
            "    Loudness  Mode  Speechiness  Acousticness  Instrumentalness  Liveness  \\\n",
            "0     -4.075     1       0.0629       0.00147          0.000209    0.0938   \n",
            "1     -7.182     0       0.0763       0.10500          0.000000    0.1470   \n",
            "2     -7.269     0       0.0330       0.00621          0.000009    0.4950   \n",
            "3     -6.500     0       0.0671       0.23200          0.000000    0.4410   \n",
            "4     -7.011     0       0.0798       0.08610          0.000000    0.1370   \n",
            "5     -7.028     1       0.2820       0.16500          0.000003    0.1340   \n",
            "6     -6.271     1       0.1970       0.06520          0.000037    0.3600   \n",
            "7     -7.289     1       0.0389       0.00279          0.000000    0.1050   \n",
            "8     -4.422     0       0.0446       0.25500          0.000000    0.3390   \n",
            "9     -4.645     1       0.0325       0.02150          0.000024    0.0936   \n",
            "10    -6.523     0       0.1130       0.02960          0.000032    0.0678   \n",
            "11    -5.020     1       0.1260       0.08050          0.000015    0.1020   \n",
            "12    -7.640     1       0.1120       0.51700          0.000000    0.1140   \n",
            "13    -4.008     1       0.0338       0.14200          0.000162    0.1630   \n",
            "14   -12.210     1       0.0363       0.09330          0.000927    0.1150   \n",
            "15    -5.371     0       0.0346       0.00285          0.000081    0.0736   \n",
            "16    -8.461     0       0.0372       0.43800          0.000000    0.0767   \n",
            "17    -5.831     0       0.1110       0.00632          0.000076    0.1170   \n",
            "18    -7.830     0       0.0313       0.03880          0.000073    0.1560   \n",
            "19    -9.851     0       0.0450       0.22900          0.000000    0.1270   \n",
            "20    -5.416     0       0.0482       0.12400          0.000000    0.1030   \n",
            "21    -5.494     0       0.1710       0.10300          0.000000    0.2990   \n",
            "22    -5.900     0       0.1430       0.42900          0.000000    0.0952   \n",
            "23    -8.958     0       0.0742       0.73800          0.001370    0.0745   \n",
            "24    -9.874     0       0.0567       0.46400          0.000000    0.0765   \n",
            "25    -9.057     0       0.2380       0.22700          0.000000    0.2290   \n",
            "26    -6.099     0       0.0305       0.08110          0.006040    0.1210   \n",
            "27    -8.332     1       0.0793       0.18800          0.000017    0.2990   \n",
            "28    -5.252     0       0.0786       0.14200          0.000000    0.3410   \n",
            "29    -5.156     0       0.0387       0.01130          0.000005    0.3680   \n",
            "30    -7.364     1       0.1300       0.14300          0.000000    0.1630   \n",
            "31    -5.759     1       0.0503       0.01420          0.000015    0.2700   \n",
            "32    -4.389     0       0.0334       0.00937          0.000000    0.0764   \n",
            "33    -8.231     1       0.2750       0.27700          0.000000    0.1870   \n",
            "34    -5.237     0       0.0435       0.06640          0.177000    0.0714   \n",
            "35    -4.892     1       0.0369       0.21100          0.000000    0.3270   \n",
            "36    -8.240     1       0.0499       0.13100          0.000000    0.0929   \n",
            "37    -5.221     0       0.1320       0.05200          0.000055    0.6850   \n",
            "38    -7.086     0       0.0285       0.86300          0.000302    0.1200   \n",
            "39    -8.512     0       0.0332       0.00909          0.000630    0.3160   \n",
            "\n",
            "    Valence    Tempo  \n",
            "0    0.3450  171.017  \n",
            "1    0.4860  133.881  \n",
            "2    0.0951  119.043  \n",
            "3    0.5020   66.900  \n",
            "4    0.1090  135.553  \n",
            "5    0.5350  186.054  \n",
            "6    0.8300   99.012  \n",
            "7    0.1090  120.122  \n",
            "8    0.8380   93.057  \n",
            "9    0.5930  118.091  \n",
            "10   0.9050  122.000  \n",
            "11   0.1620  100.537  \n",
            "12   0.2270   75.978  \n",
            "13   0.1550  113.260  \n",
            "14   0.1660  100.966  \n",
            "15   0.7170  100.021  \n",
            "16   0.3690  119.980  \n",
            "17   0.1980  169.954  \n",
            "18   0.6080  134.951  \n",
            "19   0.0812  133.995  \n",
            "20   0.5930  107.951  \n",
            "21   0.7840  109.946  \n",
            "22   0.5670   92.985  \n",
            "23   0.0761   74.988  \n",
            "24   0.2370  105.360  \n",
            "25   0.2940  160.152  \n",
            "26   0.1430  108.959  \n",
            "27   0.2250   77.555  \n",
            "28   0.5760  149.787  \n",
            "29   0.3160  111.426  \n",
            "30   0.3570   79.995  \n",
            "31   0.7280  109.952  \n",
            "32   0.2400   98.992  \n",
            "33   0.6340   76.610  \n",
            "34   0.0725  115.923  \n",
            "35   0.1650  134.144  \n",
            "36   0.1960   87.221  \n",
            "37   0.2260  120.077  \n",
            "38   0.1050  139.209  \n",
            "39   0.1610  140.119  \n",
            "\n",
            "[40 rows x 21 columns]\n"
          ]
        }
      ]
    },
    {
      "cell_type": "code",
      "source": [],
      "metadata": {
        "id": "VnlT7yR9-8aC"
      },
      "execution_count": null,
      "outputs": []
    },
    {
      "cell_type": "code",
      "source": [],
      "metadata": {
        "id": "p47TWp_3-660"
      },
      "execution_count": null,
      "outputs": []
    },
    {
      "cell_type": "markdown",
      "source": [
        "Now let’s check if the data has any null values or not:\n"
      ],
      "metadata": {
        "id": "y1odaZswVuxt"
      }
    },
    {
      "cell_type": "code",
      "source": [
        "print(music_df.isnull().sum())"
      ],
      "metadata": {
        "colab": {
          "base_uri": "https://localhost:8080/"
        },
        "id": "Jr2X5wNiVmmN",
        "outputId": "f5de0a84-19a7-493a-dbaa-2d3ba0d6719c"
      },
      "execution_count": null,
      "outputs": [
        {
          "output_type": "stream",
          "name": "stdout",
          "text": [
            "Track Name          0\n",
            "Artists             0\n",
            "Album Name          0\n",
            "Album ID            0\n",
            "Track ID            0\n",
            "Popularity          0\n",
            "Release Date        0\n",
            "Duration (ms)       0\n",
            "Explicit            0\n",
            "External URLs       0\n",
            "Danceability        0\n",
            "Energy              0\n",
            "Key                 0\n",
            "Loudness            0\n",
            "Mode                0\n",
            "Speechiness         0\n",
            "Acousticness        0\n",
            "Instrumentalness    0\n",
            "Liveness            0\n",
            "Valence             0\n",
            "Tempo               0\n",
            "dtype: int64\n"
          ]
        }
      ]
    },
    {
      "cell_type": "markdown",
      "source": [
        "Now, let’s move further to building a music recommendation system using Python. Let’s import the necessary Python libraries now:"
      ],
      "metadata": {
        "id": "AAURWuhYV04l"
      }
    },
    {
      "cell_type": "code",
      "source": [
        "import pandas as pd\n",
        "import numpy as np\n",
        "from sklearn.model_selection import train_test_split\n",
        "from sklearn.preprocessing import MinMaxScaler\n",
        "from datetime import datetime\n",
        "from sklearn.metrics.pairwise import cosine_similarity\n",
        "\n",
        "data = music_df"
      ],
      "metadata": {
        "id": "EWJepDJQVtqF"
      },
      "execution_count": null,
      "outputs": []
    },
    {
      "cell_type": "markdown",
      "source": [
        "While providing music recommendations to users, it is important to recommend the latest releases. For this, we need to give more weight to the latest releases in the recommendations. Let’s write a function to solve this problem:"
      ],
      "metadata": {
        "id": "IfRCnTJEV7z2"
      }
    },
    {
      "cell_type": "code",
      "source": [
        "# Function to calculate weighted popularity scores based on release date\n",
        "def calculate_weighted_popularity(release_date):\n",
        "    # Convert the release date to datetime object\n",
        "    release_date = datetime.strptime(release_date, '%Y-%m-%d')\n",
        "\n",
        "    # Calculate the time span between release date and today's date\n",
        "    time_span = datetime.now() - release_date\n",
        "\n",
        "    # Calculate the weighted popularity score based on time span (e.g., more recent releases have higher weight)\n",
        "    weight = 1 / (time_span.days + 1)\n",
        "    return weight"
      ],
      "metadata": {
        "id": "W19GpprnV9XG"
      },
      "execution_count": null,
      "outputs": []
    },
    {
      "cell_type": "markdown",
      "source": [
        "Now let’s normalize the music features before moving forward:"
      ],
      "metadata": {
        "id": "nodj6MLDWSMZ"
      }
    },
    {
      "cell_type": "code",
      "source": [
        "# Normalize the music features using Min-Max scaling\n",
        "scaler = MinMaxScaler()\n",
        "music_features = music_df[['Danceability', 'Energy', 'Key',\n",
        "                           'Loudness', 'Mode', 'Speechiness', 'Acousticness',\n",
        "                           'Instrumentalness', 'Liveness', 'Valence', 'Tempo']].values\n",
        "music_features_scaled = scaler.fit_transform(music_features)"
      ],
      "metadata": {
        "id": "Od1CKTEhWRxp"
      },
      "execution_count": null,
      "outputs": []
    },
    {
      "cell_type": "markdown",
      "source": [
        "Here’s how to generate music recommendations based on the music audio features:"
      ],
      "metadata": {
        "id": "A9wuyF3gWcTu"
      }
    },
    {
      "cell_type": "code",
      "source": [
        "# a function to get content-based recommendations based on music features\n",
        "def content_based_recommendations(input_song_name, num_recommendations=5):\n",
        "    if input_song_name not in music_df['Track Name'].values:\n",
        "        print(f\"'{input_song_name}' not found in the dataset. Please enter a valid song name.\")\n",
        "        return\n",
        "\n",
        "    # Get the index of the input song in the music DataFrame\n",
        "    input_song_index = music_df[music_df['Track Name'] == input_song_name].index[0]\n",
        "\n",
        "    # Calculate the similarity scores based on music features (cosine similarity)\n",
        "    similarity_scores = cosine_similarity([music_features_scaled[input_song_index]], music_features_scaled)\n",
        "\n",
        "    # Get the indices of the most similar songs\n",
        "    similar_song_indices = similarity_scores.argsort()[0][::-1][1:num_recommendations + 1]\n",
        "\n",
        "    # Get the names of the most similar songs based on content-based filtering\n",
        "    content_based_recommendations = music_df.iloc[similar_song_indices][['Track Name', 'Artists', 'Album Name', 'Release Date', 'Popularity']]\n",
        "\n",
        "    return content_based_recommendations"
      ],
      "metadata": {
        "id": "TM4_0dAGWeKN"
      },
      "execution_count": null,
      "outputs": []
    },
    {
      "cell_type": "markdown",
      "source": [
        "Now here’s the function to generate music recommendations based on weighted popularity and combine it with the recommendations of the content-based filtering method using the hybrid approach:"
      ],
      "metadata": {
        "id": "VZu60bGpWuUB"
      }
    },
    {
      "cell_type": "code",
      "source": [
        "# a function to get hybrid recommendations based on weighted popularity\n",
        "def hybrid_recommendations(input_song_name, num_recommendations=5, alpha=0.5):\n",
        "    if input_song_name not in music_df['Track Name'].values:\n",
        "        print(f\"'{input_song_name}' not found in the dataset. Please enter a valid song name.\")\n",
        "        return\n",
        "\n",
        "    # Get content-based recommendations\n",
        "    content_based_rec = content_based_recommendations(input_song_name, num_recommendations)\n",
        "\n",
        "    # Get the popularity score of the input song\n",
        "    popularity_score = music_df.loc[music_df['Track Name'] == input_song_name, 'Popularity'].values[0]\n",
        "\n",
        "    # Calculate the weighted popularity score\n",
        "    weighted_popularity_score = popularity_score * calculate_weighted_popularity(music_df.loc[music_df['Track Name'] == input_song_name, 'Release Date'].values[0])\n",
        "\n",
        "    # Combine content-based and popularity-based recommendations based on weighted popularity\n",
        "    hybrid_recommendations = content_based_rec\n",
        "    hybrid_recommendations = hybrid_recommendations.append({\n",
        "        'Track Name': input_song_name,\n",
        "        'Artists': music_df.loc[music_df['Track Name'] == input_song_name, 'Artists'].values[0],\n",
        "        'Album Name': music_df.loc[music_df['Track Name'] == input_song_name, 'Album Name'].values[0],\n",
        "        'Release Date': music_df.loc[music_df['Track Name'] == input_song_name, 'Release Date'].values[0],\n",
        "        'Popularity': weighted_popularity_score\n",
        "    }, ignore_index=True)\n",
        "\n",
        "    # Sort the hybrid recommendations based on weighted popularity score\n",
        "    hybrid_recommendations = hybrid_recommendations.sort_values(by='Popularity', ascending=False)\n",
        "\n",
        "    # Remove the input song from the recommendations\n",
        "    hybrid_recommendations = hybrid_recommendations[hybrid_recommendations['Track Name'] != input_song_name]\n",
        "\n",
        "\n",
        "    return hybrid_recommendations"
      ],
      "metadata": {
        "id": "-gRPhbkMWvPE"
      },
      "execution_count": null,
      "outputs": []
    },
    {
      "cell_type": "markdown",
      "source": [
        "Now here’s how we can test the final function to generate music recommendations:"
      ],
      "metadata": {
        "id": "eJycRCk3W-bo"
      }
    },
    {
      "cell_type": "code",
      "source": [
        "input_song_name = \"Die For You\"\n",
        "recommendations = hybrid_recommendations(input_song_name, num_recommendations=5)\n",
        "print(f\"Hybrid recommended songs for '{input_song_name}':\")\n",
        "print(recommendations)"
      ],
      "metadata": {
        "colab": {
          "base_uri": "https://localhost:8080/"
        },
        "id": "f5yPS0YsW_dy",
        "outputId": "4768b5df-2811-4ce9-c559-b620f378885e"
      },
      "execution_count": null,
      "outputs": [
        {
          "output_type": "stream",
          "name": "stdout",
          "text": [
            "Hybrid recommended songs for 'Die For You':\n",
            "                                 Track Name                     Artists  \\\n",
            "1                               Out of Time                  The Weeknd   \n",
            "3                              In Your Eyes                  The Weeknd   \n",
            "4  I Heard You’re Married (feat. Lil Wayne)       The Weeknd, Lil Wayne   \n",
            "0                                 Sidewalks  The Weeknd, Kendrick Lamar   \n",
            "2                          I Feel It Coming       The Weeknd, Daft Punk   \n",
            "\n",
            "    Album Name Release Date  Popularity  \n",
            "1      Dawn FM   2022-01-06        81.0  \n",
            "3  After Hours   2020-03-20        80.0  \n",
            "4      Dawn FM   2022-01-06        65.0  \n",
            "0      Starboy   2016-11-25         0.0  \n",
            "2      Starboy   2016-11-25         0.0  \n"
          ]
        },
        {
          "output_type": "stream",
          "name": "stderr",
          "text": [
            "<ipython-input-36-3de633f34e34>:18: FutureWarning: The frame.append method is deprecated and will be removed from pandas in a future version. Use pandas.concat instead.\n",
            "  hybrid_recommendations = hybrid_recommendations.append({\n"
          ]
        }
      ]
    }
  ]
}